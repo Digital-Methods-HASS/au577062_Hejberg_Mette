{
 "cells": [
  {
   "cell_type": "markdown",
   "id": "cfbf9d43-8fd1-4d60-9576-755c1bf5414b",
   "metadata": {},
   "source": [
    "# Assignment 1"
   ]
  },
  {
   "cell_type": "code",
   "execution_count": 1,
   "id": "1f72ab3d-71b2-4a46-99f8-6f4d8edcc692",
   "metadata": {
    "execution": {
     "iopub.execute_input": "2022-03-02T07:12:30.743963Z",
     "iopub.status.busy": "2022-03-02T07:12:30.743275Z",
     "iopub.status.idle": "2022-03-02T07:12:31.287448Z",
     "shell.execute_reply": "2022-03-02T07:12:31.286806Z",
     "shell.execute_reply.started": "2022-03-02T07:12:30.743911Z"
    },
    "tags": []
   },
   "outputs": [],
   "source": [
    "# loading the packages we need\n",
    "import os\n",
    "import re\n",
    "import spacy"
   ]
  },
  {
   "cell_type": "code",
   "execution_count": 2,
   "id": "443cda47-5985-454d-b8b5-b272ad6882b7",
   "metadata": {
    "execution": {
     "iopub.execute_input": "2022-03-02T07:12:31.293758Z",
     "iopub.status.busy": "2022-03-02T07:12:31.293609Z",
     "iopub.status.idle": "2022-03-02T07:12:31.852178Z",
     "shell.execute_reply": "2022-03-02T07:12:31.851543Z",
     "shell.execute_reply.started": "2022-03-02T07:12:31.293741Z"
    },
    "tags": []
   },
   "outputs": [],
   "source": [
    "# define a shortcut for a function\n",
    "nlp = spacy.load(\"en_core_web_sm\")"
   ]
  },
  {
   "cell_type": "code",
   "execution_count": 3,
   "id": "38b80486-5679-4299-8e10-960a1fbf35ff",
   "metadata": {
    "execution": {
     "iopub.execute_input": "2022-03-02T07:12:32.505013Z",
     "iopub.status.busy": "2022-03-02T07:12:32.504348Z",
     "iopub.status.idle": "2022-03-02T07:12:32.513226Z",
     "shell.execute_reply": "2022-03-02T07:12:32.512481Z",
     "shell.execute_reply.started": "2022-03-02T07:12:32.504964Z"
    },
    "tags": []
   },
   "outputs": [],
   "source": [
    "# define a filepath to load the text\n",
    "filepath = os.path.join(\n",
    "    \"..\", \"CDS-LANG\", \"100_english_novels\", \"corpus\", \"Bennet_Helen_1910.txt\"\n",
    ")\n",
    "# open the text\n",
    "file_object = open(filepath, \"r\")\n",
    "# read the text\n",
    "text = file_object.read()"
   ]
  },
  {
   "cell_type": "markdown",
   "id": "f7ddd348-7667-433c-ae27-8b9bc1f798af",
   "metadata": {},
   "source": [
    "Firstly, we need to make all text lowercase and remove punctuation "
   ]
  },
  {
   "cell_type": "code",
   "execution_count": 6,
   "id": "17be8234-7fda-4170-b155-b12aef52e15a",
   "metadata": {
    "execution": {
     "iopub.execute_input": "2022-03-02T07:22:01.458223Z",
     "iopub.status.busy": "2022-03-02T07:22:01.457521Z",
     "iopub.status.idle": "2022-03-02T07:22:15.821340Z",
     "shell.execute_reply": "2022-03-02T07:22:15.820417Z",
     "shell.execute_reply.started": "2022-03-02T07:22:01.458160Z"
    },
    "tags": []
   },
   "outputs": [],
   "source": [
    "# make all text lower case\n",
    "text = text.lower()\n",
    "# remove punctuation with regular expressions\n",
    "text = re.sub(\"\\W+\", \" \", text)\n",
    "# run the text through the nlp function which tokenizes\n",
    "doc = nlp(text)"
   ]
  },
  {
   "cell_type": "markdown",
   "id": "93def26c-f518-4c9c-88bd-74b29ce64154",
   "metadata": {},
   "source": [
    "Next, I count the amount of times my keyword (\"park\") occurs in the text, so I have a better understanding of the outputs of the collocate code"
   ]
  },
  {
   "cell_type": "code",
   "execution_count": 5,
   "id": "6bfa492a-195e-4114-9ede-1e522ef64f65",
   "metadata": {
    "execution": {
     "iopub.execute_input": "2022-03-02T07:12:50.481291Z",
     "iopub.status.busy": "2022-03-02T07:12:50.481119Z",
     "iopub.status.idle": "2022-03-02T07:12:50.511087Z",
     "shell.execute_reply": "2022-03-02T07:12:50.510409Z",
     "shell.execute_reply.started": "2022-03-02T07:12:50.481272Z"
    },
    "tags": []
   },
   "outputs": [
    {
     "name": "stdout",
     "output_type": "stream",
     "text": [
      "There is 23 instances of park in the text\n"
     ]
    }
   ],
   "source": [
    "# user-defined search term = park\n",
    "# count how many times \"park\" is in the text\n",
    "\n",
    "# define an empty counter for later\n",
    "counter = 0\n",
    "\n",
    "# for every token in the document\n",
    "for token in doc:\n",
    "    # if the token is \"park\"\n",
    "    if token.text == \"park\":\n",
    "        # count it\n",
    "        counter += 1\n",
    "\n",
    "# print the how many times there is an instance of \"park\" in the text\n",
    "print(f\"There is {counter} instances of park in the text\")"
   ]
  },
  {
   "cell_type": "markdown",
   "id": "850d98f5-354b-4129-b2b6-538c43b46e5c",
   "metadata": {},
   "source": [
    "Now let's find the collocates for \"park\""
   ]
  },
  {
   "cell_type": "code",
   "execution_count": 6,
   "id": "07e72bf6-3f45-4f3a-99b3-2ca4e83c9f57",
   "metadata": {
    "execution": {
     "iopub.execute_input": "2022-03-01T18:38:40.439845Z",
     "iopub.status.busy": "2022-03-01T18:38:40.439090Z",
     "iopub.status.idle": "2022-03-01T18:38:40.474781Z",
     "shell.execute_reply": "2022-03-01T18:38:40.473982Z",
     "shell.execute_reply.started": "2022-03-01T18:38:40.439789Z"
    },
    "tags": []
   },
   "outputs": [
    {
     "name": "stdout",
     "output_type": "stream",
     "text": [
      "[99, 100, 101, 102, 103, 105, 106, 107, 108, 300, 301, 302, 303, 304, 306, 307, 308, 309, 315, 316, 317, 318, 319, 321, 322, 323, 324, 324, 325, 326, 327, 328, 330, 331, 332, 333, 350, 351, 352, 353, 354, 356, 357, 358, 359, 427, 428, 429, 430, 431, 433, 434, 435, 436, 478, 479, 480, 481, 482, 484, 485, 486, 487, 489, 490, 491, 492, 493, 495, 496, 497, 498, 495, 496, 497, 498, 499, 501, 502, 503, 504, 1433, 1434, 1435, 1436, 1437, 1439, 1440, 1441, 1442, 1967, 1968, 1969, 1970, 1971, 1973, 1974, 1975, 1976, 2827, 2828, 2829, 2830, 2831, 2833, 2834, 2835, 2836, 2907, 2908, 2909, 2910, 2911, 2913, 2914, 2915, 2916, 6359, 6360, 6361, 6362, 6363, 6365, 6366, 6367, 6368, 6424, 6425, 6426, 6427, 6428, 6430, 6431, 6432, 6433, 12931, 12932, 12933, 12934, 12935, 12937, 12938, 12939, 12940, 33499, 33500, 33501, 33502, 33503, 33505, 33506, 33507, 33508, 33503, 33504, 33505, 33506, 33507, 33509, 33510, 33511, 33512, 33577, 33578, 33579, 33580, 33581, 33583, 33584, 33585, 33586, 41326, 41327, 41328, 41329, 41330, 41332, 41333, 41334, 41335, 43977, 43978, 43979, 43980, 43981, 43983, 43984, 43985, 43986, 49825, 49826, 49827, 49828, 49829, 49831, 49832, 49833, 49834, 53835, 53836, 53837, 53838, 53839, 53841, 53842, 53843, 53844]\n"
     ]
    }
   ],
   "source": [
    "# find the indices of collocates for \"park\"\n",
    "\n",
    "# define an empty list for later \n",
    "index = []\n",
    "\n",
    "# for every token in the document\n",
    "for token in doc:\n",
    "    # if the token is \"park\"\n",
    "    if token.text == \"park\":\n",
    "        # get the index minus 5 \n",
    "        before = token.i - 5\n",
    "        # for every index in the range \n",
    "        for i in range(before, before + 10):\n",
    "            # if the index is not the key word \n",
    "            if i != token.i:\n",
    "                # add it to the empty list \n",
    "                index.append(i)\n",
    "print(index)"
   ]
  },
  {
   "cell_type": "code",
   "execution_count": 8,
   "id": "48c5935f-3d38-4908-abe1-050ab5c1b08f",
   "metadata": {
    "execution": {
     "iopub.execute_input": "2022-03-02T07:29:43.691816Z",
     "iopub.status.busy": "2022-03-02T07:29:43.691281Z",
     "iopub.status.idle": "2022-03-02T07:29:43.728321Z",
     "shell.execute_reply": "2022-03-02T07:29:43.727762Z",
     "shell.execute_reply.started": "2022-03-02T07:29:43.691765Z"
    },
    "tags": []
   },
   "outputs": [
    {
     "name": "stdout",
     "output_type": "stream",
     "text": [
      "[of, happy, tears, the, town, is, an, idyll, in, parks, when, bursley, mentions, its, especially, turnhill, smallest, and, but, let, them, show, a, whose, natural, situation, equals, equals, that, of, bursley, s, you, may, tell, me, that, in, spite, of, the, s, vaunted, situation, nothing, before, the, days, of, the, lovers, had, no, place, before, the, days, of, the, that, is, the, sufficient, to, any, criticism, of, the, the, highest, terrace, of, the, highest, terrace, of, the, is, a, splendid, expanse, choice, of, benches, in, a, he, will, always, select, not, excite, attention, throughout, the, then, she, had, the, before, the, scene, on, the, terrace, mrs, rathbone, and, s, was, now, sharing, the, bench, with, him, hence, i, m, teaching, at, the, road, board, school, i, the, eastern, gates, of, the, what, dost, teach, oh, her, crushing, him, in, the, and, the, peril, of, there, s, one, up, at, road, above, th, at, road, above, th, semi, detached, at, least, in, a, poky, house, in, road, the, very, street, wilbraham, water, which, diversified, the, like, splendours, of, wilbraham, and, her, sunshade, in, the, that, is, to, say, and, immediately, behind, him, the, with, the, bowling, green, a, semi, detached, villa, in, road, with, a, fine]\n"
     ]
    }
   ],
   "source": [
    "# find the collocates of \"park\"\n",
    "\n",
    "# define an empty list for later\n",
    "index2 = []\n",
    "\n",
    "# for every token in the document\n",
    "for token in doc:\n",
    "    # if the token is \"park\"\n",
    "    if token.text == \"park\":\n",
    "        # get the index and remove 5\n",
    "        before = token.i - 5\n",
    "        # get the index and add 5\n",
    "        after = token.i + 5\n",
    "        # for every index in the range\n",
    "        for i in range(before, after):\n",
    "            # add it to the empty list, but not if the text is \"park\"\n",
    "            if str(doc[i]) != \"park\":\n",
    "                index2.append(doc[i])\n",
    "\n",
    "# print the list\n",
    "print(index2)"
   ]
  },
  {
   "cell_type": "markdown",
   "id": "09252fc2-5286-4042-abb8-6597b23f756f",
   "metadata": {},
   "source": [
    "Now we have list of collocates and a list of the indices. Unfortunately, there is an occurrence of \"parks\". I did not spend much time looking into how to solve this problem, but perhaps it could be done with using the lemma of my key word or with regular expressions. \n",
    "\n",
    "Next we need to find the frequencies of the collocates. We want to know how often \"park\" occurs with the collocates compared to how often the collocates and \"park\" occur in general. I'll do this using the BNC's formula for mutual information:\n",
    "\n",
    "MI = log ( (AB * sizeCorpus) / (A * B * span) ) / log (2)\n",
    "\n",
    "We already know the frequency of \"park\" which was 23 times \n",
    "\n",
    "##### from here on I received the code from someone else so I'm not 100 % sure what's going on"
   ]
  },
  {
   "cell_type": "code",
   "execution_count": 25,
   "id": "4abffe8e-acb8-49d8-902f-94937101b030",
   "metadata": {
    "execution": {
     "iopub.execute_input": "2022-03-02T07:35:29.965869Z",
     "iopub.status.busy": "2022-03-02T07:35:29.965228Z",
     "iopub.status.idle": "2022-03-02T07:35:34.521307Z",
     "shell.execute_reply": "2022-03-02T07:35:34.520616Z",
     "shell.execute_reply.started": "2022-03-02T07:35:29.965805Z"
    },
    "tags": []
   },
   "outputs": [],
   "source": [
    "A = 23\n",
    "\n",
    "# find frequencies of collocates \n",
    "\n",
    "# define an empty list for later \n",
    "B = []\n",
    "\n",
    "# for every collocate in the text\n",
    "for i in range(0, len(index2)-1):\n",
    "    # define B_words which is the collocates  \n",
    "    B_words = str(index2[i]) \n",
    "    # and define a counter \n",
    "    counter3 = 0 \n",
    "    # for every token in the document\n",
    "    for token in doc:\n",
    "        # if the token is equal to B_words \n",
    "        if token.text == B_words:\n",
    "            # count them\n",
    "            counter3 += 1\n",
    "    # and append to the empty list         \n",
    "    B.append(counter3)"
   ]
  },
  {
   "cell_type": "code",
   "execution_count": 26,
   "id": "05744206-6519-458b-8030-abc159520318",
   "metadata": {
    "execution": {
     "iopub.execute_input": "2022-03-02T07:35:34.606973Z",
     "iopub.status.busy": "2022-03-02T07:35:34.606745Z",
     "iopub.status.idle": "2022-03-02T07:35:34.622716Z",
     "shell.execute_reply": "2022-03-02T07:35:34.622064Z",
     "shell.execute_reply.started": "2022-03-02T07:35:34.606953Z"
    },
    "tags": []
   },
   "outputs": [],
   "source": [
    "# find how often the collocates and the key word occur together\n",
    "\n",
    "# define an empty list for lister\n",
    "AB = []\n",
    "\n",
    "# for every collocate in the text \n",
    "for i in range(0, len(index2)-1): \n",
    "    # define B_words which is the collocates \n",
    "    B_words = str(index2[i])\n",
    "    # and define a counter \n",
    "    counter4 = 0 \n",
    "    # for every token in the list \n",
    "    for token in index2:\n",
    "        # if the token is a collocate \n",
    "        if token.text == B_words:\n",
    "            # count it \n",
    "            counter4 += 1\n",
    "    # and append to the empty list         \n",
    "    AB.append(counter4)"
   ]
  },
  {
   "cell_type": "markdown",
   "id": "1d1d60b6-68c9-40e4-bea9-02d6ec00b29d",
   "metadata": {},
   "source": [
    "Let's get the size of the corpus meaning the amount of words in the text in general "
   ]
  },
  {
   "cell_type": "code",
   "execution_count": 27,
   "id": "d0baed45-345d-4a43-b607-dc30d0ce337a",
   "metadata": {
    "execution": {
     "iopub.execute_input": "2022-03-02T07:35:34.624089Z",
     "iopub.status.busy": "2022-03-02T07:35:34.623870Z",
     "iopub.status.idle": "2022-03-02T07:35:34.646948Z",
     "shell.execute_reply": "2022-03-02T07:35:34.646252Z",
     "shell.execute_reply.started": "2022-03-02T07:35:34.624069Z"
    },
    "tags": []
   },
   "outputs": [
    {
     "name": "stdout",
     "output_type": "stream",
     "text": [
      "53870\n"
     ]
    }
   ],
   "source": [
    "textLength = len(token.doc)\n",
    "print(textLength)"
   ]
  },
  {
   "cell_type": "markdown",
   "id": "8850ab05-80f5-4897-a472-fddb1af28016",
   "metadata": {},
   "source": [
    "Now we can find the mutal information scores of the collocates using the BNC formula:\n",
    "\n",
    "MI = log ( (AB * sizeCorpus) / (A * B * span) ) / log (2)"
   ]
  },
  {
   "cell_type": "code",
   "execution_count": 30,
   "id": "71ca887e-f3f8-4974-a4f6-697badeed018",
   "metadata": {
    "execution": {
     "iopub.execute_input": "2022-03-02T07:36:34.670764Z",
     "iopub.status.busy": "2022-03-02T07:36:34.670331Z",
     "iopub.status.idle": "2022-03-02T07:36:34.677664Z",
     "shell.execute_reply": "2022-03-02T07:36:34.676928Z",
     "shell.execute_reply.started": "2022-03-02T07:36:34.670731Z"
    },
    "tags": []
   },
   "outputs": [
    {
     "name": "stdout",
     "output_type": "stream",
     "text": [
      "[0.974867462837487, 5.286741893060927, 5.54977629889472, 1.23675375722925, 3.54977629889472, 2.096917334180909, 0.34814243772506964, 5.871704393782083, 1.1084920269676823, 7.871704393782083, 0.8830197070099168, 3.514152389163999, 7.871704393782083, 2.116816891618614, 5.286741893060927, 4.871704393782083, 7.871704393782083, -0.4574192025094837, -0.4858476108360012, 3.0137233986545104, 1.7424213768371162, 5.286741893060927, 0.052589758262004876, 4.064349471724478, 5.54977629889472, 5.871704393782083, 8.871704393782084, 8.871704393782084, 0.31903529626781085, 0.974867462837487, 3.514152389163999, 0.995187447217083, -1.3498827274827225, 2.514152389163999, 2.2867418930609262, 0.505382179536267, 0.31903529626781085, 1.1084920269676823, 6.286741893060927, 0.974867462837487, 1.23675375722925, 0.995187447217083, 7.871704393782083, 5.871704393782083, 1.964813798173564, 3.9648137981735645, 1.23675375722925, 4.479386971003322, 0.974867462837487, 1.23675375722925, 6.871704393782083, -0.4968020677256091, 0.32480993389444596, 4.064349471724478, 3.9648137981735645, 1.23675375722925, 4.479386971003322, 0.974867462837487, 1.23675375722925, 0.31903529626781085, 2.096917334180909, 1.23675375722925, 5.286741893060927, -1.51307935631127, 2.199279051810587, 7.871704393782083, 0.974867462837487, 1.23675375722925, 1.23675375722925, 6.871704393782083, 6.649311972445635, 0.974867462837487, 1.23675375722925, 6.871704393782083, 6.649311972445635, 0.974867462837487, 1.23675375722925, 2.096917334180909, 0.052589758262004876, 5.54977629889472, 7.871704393782083, 6.286741893060927, 0.974867462837487, 7.871704393782083, 1.1084920269676823, 0.052589758262004876, -2.4263581739369338, 2.0137233986545104, 2.662251028153133, 7.871704393782083, -0.757652226297527, 7.871704393782083, 5.54977629889472, 6.286741893060927, 1.23675375722925, 0.6237768803384971, -1.752177096231376, -0.4968020677256091, 1.23675375722925, 3.9648137981735645, 1.23675375722925, 4.701779392339771, -0.5918199794890977, 1.23675375722925, 6.649311972445635, 0.3171155421044452, 3.54977629889472, -0.4574192025094837, 0.995187447217083, -1.9468777836987758, 1.5679236456049797, 7.871704393782083, 1.23675375722925, 4.701779392339771, 0.7877819102369917, 1.0137233986545104, 6.871704393782083, -0.8165459153510957, 1.3639097535833866, 5.871704393782083, 1.3403229332657705, 1.23675375722925, 5.493192770528353, 5.54977629889472, 3.7842415525317437, -0.8165459153510957, 1.23675375722925, 7.871704393782083, 6.286741893060927, 0.974867462837487, 1.23675375722925, 0.1712646756409904, 5.54977629889472, 5.286741893060927, 2.3171155421044456, -0.22105274713776976, 6.871704393782083, 1.0137233986545104, 1.1084920269676823, 1.23675375722925, -0.4574192025094837, 1.23675375722925, 6.871704393782083, 0.974867462837487, 0.4880001013080304, 0.995187447217083, 0.4880001013080304, 1.2569945496668746, 1.3403229332657705, 5.493192770528353, 5.412272775144785, 3.7842415525317437, 1.3403229332657705, 5.493192770528353, 5.412272775144785, 3.7842415525317437, 6.549776298894721, 6.549776298894721, 1.3403229332657705, 3.623776880338497, 1.1084920269676823, 0.052589758262004876, 6.286741893060927, 1.6818798349020656, 1.1084920269676823, 5.493192770528353, 1.23675375722925, 1.379851297452408, 4.54977629889472, 3.1992790518105867, 3.7842415525317437, 0.47938697100332234, 7.871704393782083, 1.23675375722925, 1.0137233986545104, 7.871704393782083, 0.974867462837487, 3.1992790518105867, -0.4574192025094837, -0.22105274713776976, 5.54977629889472, 1.1084920269676823, 1.23675375722925, 0.31903529626781085, 2.096917334180909, -1.51307935631127, 1.9890613444202412, -0.4574192025094837, 5.871704393782083, 3.54977629889472, 1.0137233986545104, 1.23675375722925, 0.7877819102369917, 1.23675375722925, 3.9648137981735645, 3.8717043937820823, 0.052589758262004876, 6.549776298894721, 6.549776298894721, 7.871704393782083, 1.1084920269676823, 5.493192770528353, 0.7877819102369917, 0.052589758262004876]\n"
     ]
    }
   ],
   "source": [
    "# import library to do the calculation\n",
    "import math\n",
    "\n",
    "# define a span\n",
    "span = 10\n",
    "# define an empty list for later \n",
    "MI = []\n",
    "\n",
    "# for every collocate in the text\n",
    "for i in range(0, len(index2)-1):\n",
    "    # calculate the mutual information\n",
    "    MI1 = math.log((AB[i] * textLength)/(A * B[i] * span))/math.log(2)\n",
    "    # and append to the empty list \n",
    "    MI.append(MI1)\n",
    "\n",
    "print(MI)"
   ]
  },
  {
   "cell_type": "code",
   "execution_count": 37,
   "id": "d5b3d566-9c13-45e1-9b88-b17b3a123db1",
   "metadata": {
    "execution": {
     "iopub.execute_input": "2022-03-02T07:40:12.146790Z",
     "iopub.status.busy": "2022-03-02T07:40:12.146173Z",
     "iopub.status.idle": "2022-03-02T07:40:12.162867Z",
     "shell.execute_reply": "2022-03-02T07:40:12.162082Z",
     "shell.execute_reply.started": "2022-03-02T07:40:12.146739Z"
    },
    "tags": []
   },
   "outputs": [
    {
     "name": "stdout",
     "output_type": "stream",
     "text": [
      "     words     B  AB        MI\n",
      "0       of  1430  12  0.974867\n",
      "1    happy     6   1  5.286742\n",
      "2    tears     5   1  5.549776\n",
      "3      the  2584  26  1.236754\n",
      "4     town    20   1  3.549776\n",
      "..     ...   ...  ..       ...\n",
      "199  villa     1   1  7.871704\n",
      "200     in   869   8  1.108492\n",
      "201   road    26   5  5.493193\n",
      "202   with   407   3  0.787782\n",
      "203      a  1355   6  0.052590\n",
      "\n",
      "[204 rows x 4 columns]\n"
     ]
    }
   ],
   "source": [
    "import pandas as pd\n",
    "\n",
    "list_context = list(zip(index2, B, AB, MI)) \n",
    "\n",
    "dframe = pd.DataFrame(list_context, columns=['words', 'B', 'AB', 'MI'])  \n",
    "  \n",
    "print(dframe)  "
   ]
  },
  {
   "cell_type": "markdown",
   "id": "1b0db64b-53c5-4678-8fa1-bcab54c82192",
   "metadata": {},
   "source": [
    "The scores have a lot of decimals which doesn't really add to the understanding, so I rounded them to 2 decimals"
   ]
  },
  {
   "cell_type": "code",
   "execution_count": 44,
   "id": "fb9716db-ab2f-401a-96cc-bc3b3dd2702e",
   "metadata": {
    "execution": {
     "iopub.execute_input": "2022-03-02T07:44:29.482953Z",
     "iopub.status.busy": "2022-03-02T07:44:29.482360Z",
     "iopub.status.idle": "2022-03-02T07:44:29.491117Z",
     "shell.execute_reply": "2022-03-02T07:44:29.490318Z",
     "shell.execute_reply.started": "2022-03-02T07:44:29.482903Z"
    },
    "tags": []
   },
   "outputs": [],
   "source": [
    "dframe = dframe.round(decimals = 2)"
   ]
  },
  {
   "cell_type": "code",
   "execution_count": 45,
   "id": "5f8fd6e4-59d7-4f58-9192-7500597d8677",
   "metadata": {
    "execution": {
     "iopub.execute_input": "2022-03-02T07:44:30.981085Z",
     "iopub.status.busy": "2022-03-02T07:44:30.980482Z",
     "iopub.status.idle": "2022-03-02T07:44:30.991427Z",
     "shell.execute_reply": "2022-03-02T07:44:30.990397Z",
     "shell.execute_reply.started": "2022-03-02T07:44:30.981035Z"
    },
    "tags": []
   },
   "outputs": [],
   "source": [
    "dframe.to_csv(\"Lang-assignment.csv\", encoding='utf-8')"
   ]
  }
 ],
 "metadata": {
  "kernelspec": {
   "display_name": "Python 3 ",
   "language": "python",
   "name": "python3"
  },
  "language_info": {
   "codemirror_mode": {
    "name": "ipython",
    "version": 3
   },
   "file_extension": ".py",
   "mimetype": "text/x-python",
   "name": "python",
   "nbconvert_exporter": "python",
   "pygments_lexer": "ipython3",
   "version": "3.9.6"
  }
 },
 "nbformat": 4,
 "nbformat_minor": 5
}
